{
 "cells": [
  {
   "cell_type": "code",
   "execution_count": 2,
   "metadata": {},
   "outputs": [],
   "source": [
    "import pandas as pd\n",
    "\n",
    "data = pd.read_csv(\"https://media.geeksforgeeks.org/wp-content/uploads/nba.csv\")"
   ]
  },
  {
   "cell_type": "code",
   "execution_count": 5,
   "metadata": {},
   "outputs": [
    {
     "name": "stdout",
     "output_type": "stream",
     "text": [
      "BEFORE CONVERSION\n",
      " Name         object\n",
      "Team         object\n",
      "Number      float64\n",
      "Position     object\n",
      "Age         float64\n",
      "Height       object\n",
      "Weight      float64\n",
      "College      object\n",
      "Salary      float64\n",
      "dtype: object \n",
      "\n",
      "AFTER CONVERSION\n",
      " Name         object\n",
      "Team         object\n",
      "Number       object\n",
      "Position     object\n",
      "Age         float64\n",
      "Height       object\n",
      "Weight      float64\n",
      "College      object\n",
      "Salary        int32\n",
      "dtype: object \n",
      "\n"
     ]
    }
   ],
   "source": [
    "data.dropna(inplace=True) # dropping null value columns to avoid errors\n",
    "\n",
    "before = data.dtypes\n",
    "\n",
    "data['Salary'] = data['Salary'].astype(int)\n",
    "data['Number'] = data['Number'].astype(str)\n",
    "\n",
    "after = data.dtypes\n",
    "\n",
    "print('BEFORE CONVERSION\\n',before, '\\n')\n",
    "print('AFTER CONVERSION\\n', after, '\\n')"
   ]
  }
 ],
 "metadata": {
  "interpreter": {
   "hash": "6dd97509205b5273c7c21c13d4cf43a5ed161109e263e7393c922461ec2edb84"
  },
  "kernelspec": {
   "display_name": "Python 3.9.12 ('base')",
   "language": "python",
   "name": "python3"
  },
  "language_info": {
   "codemirror_mode": {
    "name": "ipython",
    "version": 3
   },
   "file_extension": ".py",
   "mimetype": "text/x-python",
   "name": "python",
   "nbconvert_exporter": "python",
   "pygments_lexer": "ipython3",
   "version": "3.9.12"
  },
  "orig_nbformat": 4
 },
 "nbformat": 4,
 "nbformat_minor": 2
}
