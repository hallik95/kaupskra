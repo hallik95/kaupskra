{
 "cells": [
  {
   "cell_type": "code",
   "execution_count": 283,
   "metadata": {},
   "outputs": [],
   "source": [
    "import numpy as np\n",
    "from tensorflow.keras.models import Sequential\n",
    "from tensorflow.keras.layers import LSTM\n",
    "from tensorflow.keras.layers import Dense, Dropout\n",
    "import pandas as pd\n",
    "from matplotlib import pyplot as plt\n",
    "from sklearn.preprocessing import StandardScaler\n",
    "import seaborn as sns\n",
    "#from datetime import datetime\n",
    "\n",
    "sns.set_style(\"whitegrid\")\n",
    "sns.set_palette(\"Paired\")"
   ]
  },
  {
   "cell_type": "code",
   "execution_count": 284,
   "metadata": {},
   "outputs": [],
   "source": [
    "df = pd.read_csv('serbyli_all_variables_MEAN.csv',\n",
    "    usecols=('date', #'kaupverd', 'fasteignamat', \n",
    "    'byggar', 'einflm', 'lod_flm','verd_m2',\n",
    "     #  'fjöldi_kaupsamninga', 'auglyst_serbyli', 'solutimi', 'Verðtryggð lán',\n",
    "      # 'erlend_lan', 'Óverðtryggð lán', 'overdtryggt', 'verdtryggt',\n",
    "       #'visitala_rvk_%', 'verdbolga_%')\n",
    "    )\n",
    "    indep = pd.read_csv('20_independent_variables_LSTM.csv', parse_dates=True)"
   ]
  },
  {
   "cell_type": "code",
   "execution_count": 285,
   "metadata": {},
   "outputs": [
    {
     "data": {
      "text/plain": [
       "Index(['date', 'byggar', 'einflm', 'lod_flm', 'verd_m2', 'fjöldi_kaupsamninga',\n",
       "       'auglyst_serbyli', 'solutimi', 'Verðtryggð lán', 'erlend_lan',\n",
       "       'Óverðtryggð lán', 'overdtryggt', 'verdtryggt', 'visitala_rvk_%',\n",
       "       'verdbolga_%'],\n",
       "      dtype='object')"
      ]
     },
     "execution_count": 285,
     "metadata": {},
     "output_type": "execute_result"
    }
   ],
   "source": [
    "df.columns"
   ]
  },
  {
   "cell_type": "code",
   "execution_count": 286,
   "metadata": {},
   "outputs": [
    {
     "data": {
      "text/html": [
       "<div>\n",
       "<style scoped>\n",
       "    .dataframe tbody tr th:only-of-type {\n",
       "        vertical-align: middle;\n",
       "    }\n",
       "\n",
       "    .dataframe tbody tr th {\n",
       "        vertical-align: top;\n",
       "    }\n",
       "\n",
       "    .dataframe thead th {\n",
       "        text-align: right;\n",
       "    }\n",
       "</style>\n",
       "<table border=\"1\" class=\"dataframe\">\n",
       "  <thead>\n",
       "    <tr style=\"text-align: right;\">\n",
       "      <th></th>\n",
       "      <th>date</th>\n",
       "      <th>verd_m2</th>\n",
       "      <th>byggar</th>\n",
       "      <th>einflm</th>\n",
       "      <th>lod_flm</th>\n",
       "      <th>fjöldi_kaupsamninga</th>\n",
       "      <th>auglyst_serbyli</th>\n",
       "      <th>solutimi</th>\n",
       "      <th>Verðtryggð lán</th>\n",
       "      <th>erlend_lan</th>\n",
       "      <th>Óverðtryggð lán</th>\n",
       "      <th>overdtryggt</th>\n",
       "      <th>verdtryggt</th>\n",
       "      <th>visitala_rvk_%</th>\n",
       "      <th>verdbolga_%</th>\n",
       "    </tr>\n",
       "  </thead>\n",
       "  <tbody>\n",
       "    <tr>\n",
       "      <th>188</th>\n",
       "      <td>2022-01-01</td>\n",
       "      <td>522.140885</td>\n",
       "      <td>1980.486842</td>\n",
       "      <td>193.510526</td>\n",
       "      <td>1551.919737</td>\n",
       "      <td>598.23</td>\n",
       "      <td>0.12</td>\n",
       "      <td>0.79</td>\n",
       "      <td>40.28</td>\n",
       "      <td>0.07</td>\n",
       "      <td>40.45</td>\n",
       "      <td>3.95</td>\n",
       "      <td>1.50</td>\n",
       "      <td>1.7</td>\n",
       "      <td>0.161253</td>\n",
       "    </tr>\n",
       "    <tr>\n",
       "      <th>189</th>\n",
       "      <td>2022-02-01</td>\n",
       "      <td>529.559932</td>\n",
       "      <td>1978.320000</td>\n",
       "      <td>202.034000</td>\n",
       "      <td>1117.332000</td>\n",
       "      <td>516.03</td>\n",
       "      <td>0.13</td>\n",
       "      <td>0.88</td>\n",
       "      <td>40.28</td>\n",
       "      <td>0.07</td>\n",
       "      <td>40.45</td>\n",
       "      <td>4.15</td>\n",
       "      <td>1.50</td>\n",
       "      <td>2.5</td>\n",
       "      <td>1.264949</td>\n",
       "    </tr>\n",
       "    <tr>\n",
       "      <th>190</th>\n",
       "      <td>2022-03-01</td>\n",
       "      <td>590.712389</td>\n",
       "      <td>1979.960784</td>\n",
       "      <td>185.774510</td>\n",
       "      <td>1191.400000</td>\n",
       "      <td>516.03</td>\n",
       "      <td>0.12</td>\n",
       "      <td>0.88</td>\n",
       "      <td>40.28</td>\n",
       "      <td>0.07</td>\n",
       "      <td>40.45</td>\n",
       "      <td>4.15</td>\n",
       "      <td>1.50</td>\n",
       "      <td>3.1</td>\n",
       "      <td>0.817624</td>\n",
       "    </tr>\n",
       "    <tr>\n",
       "      <th>191</th>\n",
       "      <td>2022-04-01</td>\n",
       "      <td>585.286590</td>\n",
       "      <td>1982.400000</td>\n",
       "      <td>180.857778</td>\n",
       "      <td>1037.535556</td>\n",
       "      <td>516.03</td>\n",
       "      <td>0.12</td>\n",
       "      <td>0.88</td>\n",
       "      <td>40.28</td>\n",
       "      <td>0.07</td>\n",
       "      <td>40.45</td>\n",
       "      <td>4.15</td>\n",
       "      <td>1.49</td>\n",
       "      <td>2.7</td>\n",
       "      <td>0.991214</td>\n",
       "    </tr>\n",
       "    <tr>\n",
       "      <th>192</th>\n",
       "      <td>2022-05-01</td>\n",
       "      <td>569.803711</td>\n",
       "      <td>1979.475000</td>\n",
       "      <td>190.230000</td>\n",
       "      <td>1498.110000</td>\n",
       "      <td>516.03</td>\n",
       "      <td>0.12</td>\n",
       "      <td>0.88</td>\n",
       "      <td>40.28</td>\n",
       "      <td>0.07</td>\n",
       "      <td>40.45</td>\n",
       "      <td>4.65</td>\n",
       "      <td>1.49</td>\n",
       "      <td>2.7</td>\n",
       "      <td>0.423823</td>\n",
       "    </tr>\n",
       "  </tbody>\n",
       "</table>\n",
       "</div>"
      ],
      "text/plain": [
       "           date     verd_m2       byggar      einflm      lod_flm  \\\n",
       "188  2022-01-01  522.140885  1980.486842  193.510526  1551.919737   \n",
       "189  2022-02-01  529.559932  1978.320000  202.034000  1117.332000   \n",
       "190  2022-03-01  590.712389  1979.960784  185.774510  1191.400000   \n",
       "191  2022-04-01  585.286590  1982.400000  180.857778  1037.535556   \n",
       "192  2022-05-01  569.803711  1979.475000  190.230000  1498.110000   \n",
       "\n",
       "     fjöldi_kaupsamninga  auglyst_serbyli  solutimi  Verðtryggð lán  \\\n",
       "188               598.23             0.12      0.79           40.28   \n",
       "189               516.03             0.13      0.88           40.28   \n",
       "190               516.03             0.12      0.88           40.28   \n",
       "191               516.03             0.12      0.88           40.28   \n",
       "192               516.03             0.12      0.88           40.28   \n",
       "\n",
       "     erlend_lan  Óverðtryggð lán  overdtryggt  verdtryggt  visitala_rvk_%  \\\n",
       "188        0.07            40.45         3.95        1.50             1.7   \n",
       "189        0.07            40.45         4.15        1.50             2.5   \n",
       "190        0.07            40.45         4.15        1.50             3.1   \n",
       "191        0.07            40.45         4.15        1.49             2.7   \n",
       "192        0.07            40.45         4.65        1.49             2.7   \n",
       "\n",
       "     verdbolga_%  \n",
       "188     0.161253  \n",
       "189     1.264949  \n",
       "190     0.817624  \n",
       "191     0.991214  \n",
       "192     0.423823  "
      ]
     },
     "execution_count": 286,
     "metadata": {},
     "output_type": "execute_result"
    }
   ],
   "source": [
    "fm2 = df['verd_m2']\n",
    "df.drop('verd_m2', axis=1, inplace=True)\n",
    "df.insert(1, 'verd_m2', fm2)\n",
    "df.tail()"
   ]
  },
  {
   "cell_type": "code",
   "execution_count": 287,
   "metadata": {},
   "outputs": [
    {
     "data": {
      "text/plain": [
       "(193, 15)"
      ]
     },
     "execution_count": 287,
     "metadata": {},
     "output_type": "execute_result"
    }
   ],
   "source": [
    "df.shape"
   ]
  },
  {
   "cell_type": "code",
   "execution_count": 288,
   "metadata": {},
   "outputs": [
    {
     "name": "stdout",
     "output_type": "stream",
     "text": [
      "189   2022-02-01\n",
      "190   2022-03-01\n",
      "191   2022-04-01\n",
      "192   2022-05-01\n",
      "Name: date, dtype: datetime64[ns]\n"
     ]
    }
   ],
   "source": [
    "train_dates = pd.to_datetime(df['date'])\n",
    "print(train_dates.tail(4))"
   ]
  },
  {
   "cell_type": "code",
   "execution_count": 289,
   "metadata": {},
   "outputs": [
    {
     "name": "stdout",
     "output_type": "stream",
     "text": [
      "['verd_m2', 'byggar', 'einflm', 'lod_flm', 'fjöldi_kaupsamninga', 'auglyst_serbyli', 'solutimi', 'Verðtryggð lán', 'erlend_lan', 'Óverðtryggð lán', 'overdtryggt', 'verdtryggt', 'visitala_rvk_%', 'verdbolga_%']\n"
     ]
    }
   ],
   "source": [
    "#Variables for training\n",
    "cols = list(df)[1:]\n",
    "#Date is not used in training. \n",
    "print(cols)"
   ]
  },
  {
   "cell_type": "code",
   "execution_count": 290,
   "metadata": {},
   "outputs": [],
   "source": [
    "df_for_training = df[cols].astype(float)"
   ]
  },
  {
   "cell_type": "code",
   "execution_count": 291,
   "metadata": {},
   "outputs": [],
   "source": [
    "scaler = StandardScaler()\n",
    "scaler = scaler.fit(df_for_training)\n",
    "df_for_training_scaled = scaler.transform(df_for_training)"
   ]
  },
  {
   "cell_type": "code",
   "execution_count": 292,
   "metadata": {},
   "outputs": [],
   "source": [
    "trainX = []\n",
    "trainY = []\n",
    "\n",
    "n_future = 2   # Number of months we want to look into the future based on the past months.\n",
    "n_past = 2  # Number of past months we want to use to predict the future."
   ]
  },
  {
   "cell_type": "code",
   "execution_count": 293,
   "metadata": {},
   "outputs": [
    {
     "name": "stdout",
     "output_type": "stream",
     "text": [
      "trainX shape == (190, 2, 14).\n",
      "trainY shape == (190, 1).\n"
     ]
    }
   ],
   "source": [
    "for i in range(n_past, len(df_for_training_scaled) - n_future +1):\n",
    "    trainX.append(df_for_training_scaled[i - n_past:i, 0:df_for_training.shape[1]])\n",
    "    trainY.append(df_for_training_scaled[i + n_future - 1:i + n_future, 0])\n",
    "\n",
    "trainX, trainY = np.array(trainX), np.array(trainY)\n",
    "\n",
    "print('trainX shape == {}.'.format(trainX.shape))\n",
    "print('trainY shape == {}.'.format(trainY.shape))"
   ]
  },
  {
   "cell_type": "code",
   "execution_count": 294,
   "metadata": {},
   "outputs": [
    {
     "name": "stdout",
     "output_type": "stream",
     "text": [
      "Model: \"sequential_14\"\n",
      "_________________________________________________________________\n",
      " Layer (type)                Output Shape              Param #   \n",
      "=================================================================\n",
      " lstm_28 (LSTM)              (None, 2, 64)             20224     \n",
      "                                                                 \n",
      " lstm_29 (LSTM)              (None, 32)                12416     \n",
      "                                                                 \n",
      " dropout_14 (Dropout)        (None, 32)                0         \n",
      "                                                                 \n",
      " dense_14 (Dense)            (None, 1)                 33        \n",
      "                                                                 \n",
      "=================================================================\n",
      "Total params: 32,673\n",
      "Trainable params: 32,673\n",
      "Non-trainable params: 0\n",
      "_________________________________________________________________\n"
     ]
    }
   ],
   "source": [
    "model = Sequential()\n",
    "model.add(LSTM(64, activation='relu', input_shape=(trainX.shape[1], trainX.shape[2]), return_sequences=True))\n",
    "model.add(LSTM(32, activation='relu', return_sequences=False))\n",
    "model.add(Dropout(0.2))\n",
    "model.add(Dense(trainY.shape[1]))\n",
    "\n",
    "model.compile(optimizer='adam', loss='mse')\n",
    "model.summary()"
   ]
  },
  {
   "cell_type": "code",
   "execution_count": 295,
   "metadata": {},
   "outputs": [
    {
     "name": "stdout",
     "output_type": "stream",
     "text": [
      "Epoch 1/100\n",
      "6/6 [==============================] - 3s 85ms/step - loss: 0.5497 - val_loss: 4.6890\n",
      "Epoch 2/100\n",
      "6/6 [==============================] - 0s 9ms/step - loss: 0.4875 - val_loss: 4.5423\n",
      "Epoch 3/100\n",
      "6/6 [==============================] - 0s 14ms/step - loss: 0.4134 - val_loss: 4.3262\n",
      "Epoch 4/100\n",
      "6/6 [==============================] - 0s 16ms/step - loss: 0.3491 - val_loss: 3.9829\n",
      "Epoch 5/100\n",
      "6/6 [==============================] - 0s 14ms/step - loss: 0.2945 - val_loss: 3.4149\n",
      "Epoch 6/100\n",
      "6/6 [==============================] - 0s 16ms/step - loss: 0.2520 - val_loss: 2.5061\n",
      "Epoch 7/100\n",
      "6/6 [==============================] - 0s 15ms/step - loss: 0.1808 - val_loss: 1.3106\n",
      "Epoch 8/100\n",
      "6/6 [==============================] - 0s 14ms/step - loss: 0.1225 - val_loss: 0.2762\n",
      "Epoch 9/100\n",
      "6/6 [==============================] - 0s 15ms/step - loss: 0.0879 - val_loss: 0.6632\n",
      "Epoch 10/100\n",
      "6/6 [==============================] - 0s 12ms/step - loss: 0.0722 - val_loss: 0.3244\n",
      "Epoch 11/100\n",
      "6/6 [==============================] - 0s 10ms/step - loss: 0.0575 - val_loss: 0.2496\n",
      "Epoch 12/100\n",
      "6/6 [==============================] - 0s 10ms/step - loss: 0.0541 - val_loss: 0.2614\n",
      "Epoch 13/100\n",
      "6/6 [==============================] - 0s 12ms/step - loss: 0.0463 - val_loss: 0.2533\n",
      "Epoch 14/100\n",
      "6/6 [==============================] - 0s 14ms/step - loss: 0.0512 - val_loss: 0.3416\n",
      "Epoch 15/100\n",
      "6/6 [==============================] - 0s 15ms/step - loss: 0.0400 - val_loss: 0.3798\n",
      "Epoch 16/100\n",
      "6/6 [==============================] - 0s 18ms/step - loss: 0.0415 - val_loss: 0.3370\n",
      "Epoch 17/100\n",
      "6/6 [==============================] - 0s 14ms/step - loss: 0.0434 - val_loss: 0.3084\n",
      "Epoch 18/100\n",
      "6/6 [==============================] - 0s 12ms/step - loss: 0.0416 - val_loss: 0.2951\n",
      "Epoch 19/100\n",
      "6/6 [==============================] - 0s 15ms/step - loss: 0.0357 - val_loss: 0.3028\n",
      "Epoch 20/100\n",
      "6/6 [==============================] - 0s 17ms/step - loss: 0.0387 - val_loss: 0.2913\n",
      "Epoch 21/100\n",
      "6/6 [==============================] - 0s 17ms/step - loss: 0.0403 - val_loss: 0.2743\n",
      "Epoch 22/100\n",
      "6/6 [==============================] - 0s 18ms/step - loss: 0.0387 - val_loss: 0.2721\n",
      "Epoch 23/100\n",
      "6/6 [==============================] - 0s 14ms/step - loss: 0.0349 - val_loss: 0.2610\n",
      "Epoch 24/100\n",
      "6/6 [==============================] - 0s 16ms/step - loss: 0.0334 - val_loss: 0.2458\n",
      "Epoch 25/100\n",
      "6/6 [==============================] - 0s 13ms/step - loss: 0.0344 - val_loss: 0.3297\n",
      "Epoch 26/100\n",
      "6/6 [==============================] - 0s 14ms/step - loss: 0.0318 - val_loss: 0.3364\n",
      "Epoch 27/100\n",
      "6/6 [==============================] - 0s 16ms/step - loss: 0.0282 - val_loss: 0.3342\n",
      "Epoch 28/100\n",
      "6/6 [==============================] - 0s 18ms/step - loss: 0.0276 - val_loss: 0.3309\n",
      "Epoch 29/100\n",
      "6/6 [==============================] - 0s 18ms/step - loss: 0.0270 - val_loss: 0.3101\n",
      "Epoch 30/100\n",
      "6/6 [==============================] - 0s 14ms/step - loss: 0.0277 - val_loss: 0.3097\n",
      "Epoch 31/100\n",
      "6/6 [==============================] - 0s 14ms/step - loss: 0.0319 - val_loss: 0.3633\n",
      "Epoch 32/100\n",
      "6/6 [==============================] - 0s 15ms/step - loss: 0.0280 - val_loss: 0.2894\n",
      "Epoch 33/100\n",
      "6/6 [==============================] - 0s 13ms/step - loss: 0.0307 - val_loss: 0.2764\n",
      "Epoch 34/100\n",
      "6/6 [==============================] - 0s 13ms/step - loss: 0.0307 - val_loss: 0.2338\n",
      "Epoch 35/100\n",
      "6/6 [==============================] - 0s 18ms/step - loss: 0.0291 - val_loss: 0.2142\n",
      "Epoch 36/100\n",
      "6/6 [==============================] - 0s 14ms/step - loss: 0.0268 - val_loss: 0.2776\n",
      "Epoch 37/100\n",
      "6/6 [==============================] - 0s 14ms/step - loss: 0.0227 - val_loss: 0.2918\n",
      "Epoch 38/100\n",
      "6/6 [==============================] - 0s 14ms/step - loss: 0.0204 - val_loss: 0.2156\n",
      "Epoch 39/100\n",
      "6/6 [==============================] - 0s 15ms/step - loss: 0.0286 - val_loss: 0.1839\n",
      "Epoch 40/100\n",
      "6/6 [==============================] - 0s 16ms/step - loss: 0.0298 - val_loss: 0.1996\n",
      "Epoch 41/100\n",
      "6/6 [==============================] - 0s 13ms/step - loss: 0.0222 - val_loss: 0.2023\n",
      "Epoch 42/100\n",
      "6/6 [==============================] - 0s 14ms/step - loss: 0.0245 - val_loss: 0.2558\n",
      "Epoch 43/100\n",
      "6/6 [==============================] - 0s 16ms/step - loss: 0.0236 - val_loss: 0.2178\n",
      "Epoch 44/100\n",
      "6/6 [==============================] - 0s 16ms/step - loss: 0.0209 - val_loss: 0.2807\n",
      "Epoch 45/100\n",
      "6/6 [==============================] - 0s 17ms/step - loss: 0.0241 - val_loss: 0.2746\n",
      "Epoch 46/100\n",
      "6/6 [==============================] - 0s 16ms/step - loss: 0.0236 - val_loss: 0.2324\n",
      "Epoch 47/100\n",
      "6/6 [==============================] - 0s 13ms/step - loss: 0.0227 - val_loss: 0.1893\n",
      "Epoch 48/100\n",
      "6/6 [==============================] - 0s 14ms/step - loss: 0.0204 - val_loss: 0.3243\n",
      "Epoch 49/100\n",
      "6/6 [==============================] - 0s 14ms/step - loss: 0.0264 - val_loss: 0.2462\n",
      "Epoch 50/100\n",
      "6/6 [==============================] - 0s 16ms/step - loss: 0.0213 - val_loss: 0.2349\n",
      "Epoch 51/100\n",
      "6/6 [==============================] - 0s 14ms/step - loss: 0.0263 - val_loss: 0.2813\n",
      "Epoch 52/100\n",
      "6/6 [==============================] - 0s 16ms/step - loss: 0.0247 - val_loss: 0.3430\n",
      "Epoch 53/100\n",
      "6/6 [==============================] - 0s 19ms/step - loss: 0.0307 - val_loss: 0.3510\n",
      "Epoch 54/100\n",
      "6/6 [==============================] - 0s 8ms/step - loss: 0.0234 - val_loss: 0.3031\n",
      "Epoch 55/100\n",
      "6/6 [==============================] - 0s 7ms/step - loss: 0.0212 - val_loss: 0.2422\n",
      "Epoch 56/100\n",
      "6/6 [==============================] - 0s 8ms/step - loss: 0.0208 - val_loss: 0.2792\n",
      "Epoch 57/100\n",
      "6/6 [==============================] - 0s 8ms/step - loss: 0.0235 - val_loss: 0.2423\n",
      "Epoch 58/100\n",
      "6/6 [==============================] - 0s 8ms/step - loss: 0.0228 - val_loss: 0.2149\n",
      "Epoch 59/100\n",
      "6/6 [==============================] - 0s 13ms/step - loss: 0.0215 - val_loss: 0.2412\n",
      "Epoch 60/100\n",
      "6/6 [==============================] - 0s 12ms/step - loss: 0.0277 - val_loss: 0.2404\n",
      "Epoch 61/100\n",
      "6/6 [==============================] - 0s 16ms/step - loss: 0.0201 - val_loss: 0.2291\n",
      "Epoch 62/100\n",
      "6/6 [==============================] - 0s 18ms/step - loss: 0.0235 - val_loss: 0.2668\n",
      "Epoch 63/100\n",
      "6/6 [==============================] - 0s 16ms/step - loss: 0.0200 - val_loss: 0.3500\n",
      "Epoch 64/100\n",
      "6/6 [==============================] - 0s 14ms/step - loss: 0.0193 - val_loss: 0.4264\n",
      "Epoch 65/100\n",
      "6/6 [==============================] - 0s 16ms/step - loss: 0.0239 - val_loss: 0.2568\n",
      "Epoch 66/100\n",
      "6/6 [==============================] - 0s 16ms/step - loss: 0.0216 - val_loss: 0.1956\n",
      "Epoch 67/100\n",
      "6/6 [==============================] - 0s 16ms/step - loss: 0.0171 - val_loss: 0.2375\n",
      "Epoch 68/100\n",
      "6/6 [==============================] - 0s 27ms/step - loss: 0.0241 - val_loss: 0.2852\n",
      "Epoch 69/100\n",
      "6/6 [==============================] - 0s 11ms/step - loss: 0.0225 - val_loss: 0.1603\n",
      "Epoch 70/100\n",
      "6/6 [==============================] - 0s 8ms/step - loss: 0.0181 - val_loss: 0.2025\n",
      "Epoch 71/100\n",
      "6/6 [==============================] - 0s 6ms/step - loss: 0.0229 - val_loss: 0.2033\n",
      "Epoch 72/100\n",
      "6/6 [==============================] - 0s 8ms/step - loss: 0.0248 - val_loss: 0.1625\n",
      "Epoch 73/100\n",
      "6/6 [==============================] - 0s 9ms/step - loss: 0.0245 - val_loss: 0.1979\n",
      "Epoch 74/100\n",
      "6/6 [==============================] - 0s 12ms/step - loss: 0.0234 - val_loss: 0.1945\n",
      "Epoch 75/100\n",
      "6/6 [==============================] - 0s 18ms/step - loss: 0.0227 - val_loss: 0.1351\n",
      "Epoch 76/100\n",
      "6/6 [==============================] - 0s 12ms/step - loss: 0.0193 - val_loss: 0.1056\n",
      "Epoch 77/100\n",
      "6/6 [==============================] - 0s 11ms/step - loss: 0.0189 - val_loss: 0.2139\n",
      "Epoch 78/100\n",
      "6/6 [==============================] - 0s 9ms/step - loss: 0.0201 - val_loss: 0.2835\n",
      "Epoch 79/100\n",
      "6/6 [==============================] - 0s 10ms/step - loss: 0.0210 - val_loss: 0.1523\n",
      "Epoch 80/100\n",
      "6/6 [==============================] - 0s 6ms/step - loss: 0.0198 - val_loss: 0.1354\n",
      "Epoch 81/100\n",
      "6/6 [==============================] - 0s 9ms/step - loss: 0.0211 - val_loss: 0.1575\n",
      "Epoch 82/100\n",
      "6/6 [==============================] - 0s 8ms/step - loss: 0.0167 - val_loss: 0.1828\n",
      "Epoch 83/100\n",
      "6/6 [==============================] - 0s 9ms/step - loss: 0.0209 - val_loss: 0.1489\n",
      "Epoch 84/100\n",
      "6/6 [==============================] - 0s 10ms/step - loss: 0.0217 - val_loss: 0.1491\n",
      "Epoch 85/100\n",
      "6/6 [==============================] - 0s 11ms/step - loss: 0.0193 - val_loss: 0.1214\n",
      "Epoch 86/100\n",
      "6/6 [==============================] - 0s 7ms/step - loss: 0.0198 - val_loss: 0.1935\n",
      "Epoch 87/100\n",
      "6/6 [==============================] - 0s 8ms/step - loss: 0.0162 - val_loss: 0.2898\n",
      "Epoch 88/100\n",
      "6/6 [==============================] - 0s 6ms/step - loss: 0.0244 - val_loss: 0.1458\n",
      "Epoch 89/100\n",
      "6/6 [==============================] - 0s 8ms/step - loss: 0.0221 - val_loss: 0.1852\n",
      "Epoch 90/100\n",
      "6/6 [==============================] - 0s 8ms/step - loss: 0.0227 - val_loss: 0.3441\n",
      "Epoch 91/100\n",
      "6/6 [==============================] - 0s 8ms/step - loss: 0.0196 - val_loss: 0.2531\n",
      "Epoch 92/100\n",
      "6/6 [==============================] - 0s 7ms/step - loss: 0.0235 - val_loss: 0.2015\n",
      "Epoch 93/100\n",
      "6/6 [==============================] - 0s 10ms/step - loss: 0.0181 - val_loss: 0.2913\n",
      "Epoch 94/100\n",
      "6/6 [==============================] - 0s 10ms/step - loss: 0.0175 - val_loss: 0.4136\n",
      "Epoch 95/100\n",
      "6/6 [==============================] - 0s 10ms/step - loss: 0.0204 - val_loss: 0.3208\n",
      "Epoch 96/100\n",
      "6/6 [==============================] - 0s 9ms/step - loss: 0.0209 - val_loss: 0.2735\n",
      "Epoch 97/100\n",
      "6/6 [==============================] - 0s 8ms/step - loss: 0.0169 - val_loss: 0.2548\n",
      "Epoch 98/100\n",
      "6/6 [==============================] - 0s 8ms/step - loss: 0.0188 - val_loss: 0.2341\n",
      "Epoch 99/100\n",
      "6/6 [==============================] - 0s 8ms/step - loss: 0.0161 - val_loss: 0.2436\n",
      "Epoch 100/100\n",
      "6/6 [==============================] - 0s 8ms/step - loss: 0.0207 - val_loss: 0.2252\n"
     ]
    },
    {
     "data": {
      "text/plain": [
       "<matplotlib.legend.Legend at 0x229041796a0>"
      ]
     },
     "execution_count": 295,
     "metadata": {},
     "output_type": "execute_result"
    },
    {
     "data": {
      "image/png": "[encoded data removed]",
      "text/plain": [
       "<Figure size 432x288 with 1 Axes>"
      ]
     },
     "metadata": {},
     "output_type": "display_data"
    }
   ],
   "source": [
    "history = model.fit(trainX, trainY, epochs=100, batch_size=32, validation_split=0.1, verbose=1)\n",
    "\n",
    "plt.plot(history.history['loss'], label='Training loss')\n",
    "plt.plot(history.history['val_loss'], label='Validation loss')\n",
    "plt.legend()"
   ]
  },
  {
   "cell_type": "code",
   "execution_count": 296,
   "metadata": {},
   "outputs": [
    {
     "name": "stdout",
     "output_type": "stream",
     "text": [
      "[Timestamp('2008-04-30 00:00:00', freq='M'), Timestamp('2008-05-31 00:00:00', freq='M'), Timestamp('2008-06-30 00:00:00', freq='M'), Timestamp('2008-07-31 00:00:00', freq='M'), Timestamp('2008-08-31 00:00:00', freq='M'), Timestamp('2008-09-30 00:00:00', freq='M'), Timestamp('2008-10-31 00:00:00', freq='M'), Timestamp('2008-11-30 00:00:00', freq='M'), Timestamp('2008-12-31 00:00:00', freq='M'), Timestamp('2009-01-31 00:00:00', freq='M'), Timestamp('2009-02-28 00:00:00', freq='M'), Timestamp('2009-03-31 00:00:00', freq='M'), Timestamp('2009-04-30 00:00:00', freq='M'), Timestamp('2009-05-31 00:00:00', freq='M'), Timestamp('2009-06-30 00:00:00', freq='M'), Timestamp('2009-07-31 00:00:00', freq='M'), Timestamp('2009-08-31 00:00:00', freq='M'), Timestamp('2009-09-30 00:00:00', freq='M'), Timestamp('2009-10-31 00:00:00', freq='M'), Timestamp('2009-11-30 00:00:00', freq='M'), Timestamp('2009-12-31 00:00:00', freq='M'), Timestamp('2010-01-31 00:00:00', freq='M'), Timestamp('2010-02-28 00:00:00', freq='M'), Timestamp('2010-03-31 00:00:00', freq='M'), Timestamp('2010-04-30 00:00:00', freq='M'), Timestamp('2010-05-31 00:00:00', freq='M'), Timestamp('2010-06-30 00:00:00', freq='M'), Timestamp('2010-07-31 00:00:00', freq='M'), Timestamp('2010-08-31 00:00:00', freq='M'), Timestamp('2010-09-30 00:00:00', freq='M'), Timestamp('2010-10-31 00:00:00', freq='M'), Timestamp('2010-11-30 00:00:00', freq='M'), Timestamp('2010-12-31 00:00:00', freq='M'), Timestamp('2011-01-31 00:00:00', freq='M'), Timestamp('2011-02-28 00:00:00', freq='M'), Timestamp('2011-03-31 00:00:00', freq='M'), Timestamp('2011-04-30 00:00:00', freq='M'), Timestamp('2011-05-31 00:00:00', freq='M'), Timestamp('2011-06-30 00:00:00', freq='M'), Timestamp('2011-07-31 00:00:00', freq='M'), Timestamp('2011-08-31 00:00:00', freq='M'), Timestamp('2011-09-30 00:00:00', freq='M'), Timestamp('2011-10-31 00:00:00', freq='M'), Timestamp('2011-11-30 00:00:00', freq='M'), Timestamp('2011-12-31 00:00:00', freq='M'), Timestamp('2012-01-31 00:00:00', freq='M'), Timestamp('2012-02-29 00:00:00', freq='M'), Timestamp('2012-03-31 00:00:00', freq='M'), Timestamp('2012-04-30 00:00:00', freq='M'), Timestamp('2012-05-31 00:00:00', freq='M'), Timestamp('2012-06-30 00:00:00', freq='M'), Timestamp('2012-07-31 00:00:00', freq='M'), Timestamp('2012-08-31 00:00:00', freq='M'), Timestamp('2012-09-30 00:00:00', freq='M'), Timestamp('2012-10-31 00:00:00', freq='M'), Timestamp('2012-11-30 00:00:00', freq='M'), Timestamp('2012-12-31 00:00:00', freq='M'), Timestamp('2013-01-31 00:00:00', freq='M'), Timestamp('2013-02-28 00:00:00', freq='M'), Timestamp('2013-03-31 00:00:00', freq='M'), Timestamp('2013-04-30 00:00:00', freq='M'), Timestamp('2013-05-31 00:00:00', freq='M'), Timestamp('2013-06-30 00:00:00', freq='M'), Timestamp('2013-07-31 00:00:00', freq='M'), Timestamp('2013-08-31 00:00:00', freq='M'), Timestamp('2013-09-30 00:00:00', freq='M'), Timestamp('2013-10-31 00:00:00', freq='M'), Timestamp('2013-11-30 00:00:00', freq='M'), Timestamp('2013-12-31 00:00:00', freq='M'), Timestamp('2014-01-31 00:00:00', freq='M'), Timestamp('2014-02-28 00:00:00', freq='M'), Timestamp('2014-03-31 00:00:00', freq='M'), Timestamp('2014-04-30 00:00:00', freq='M'), Timestamp('2014-05-31 00:00:00', freq='M'), Timestamp('2014-06-30 00:00:00', freq='M'), Timestamp('2014-07-31 00:00:00', freq='M'), Timestamp('2014-08-31 00:00:00', freq='M'), Timestamp('2014-09-30 00:00:00', freq='M'), Timestamp('2014-10-31 00:00:00', freq='M'), Timestamp('2014-11-30 00:00:00', freq='M'), Timestamp('2014-12-31 00:00:00', freq='M'), Timestamp('2015-01-31 00:00:00', freq='M'), Timestamp('2015-02-28 00:00:00', freq='M'), Timestamp('2015-03-31 00:00:00', freq='M'), Timestamp('2015-04-30 00:00:00', freq='M'), Timestamp('2015-05-31 00:00:00', freq='M'), Timestamp('2015-06-30 00:00:00', freq='M'), Timestamp('2015-07-31 00:00:00', freq='M'), Timestamp('2015-08-31 00:00:00', freq='M'), Timestamp('2015-09-30 00:00:00', freq='M'), Timestamp('2015-10-31 00:00:00', freq='M'), Timestamp('2015-11-30 00:00:00', freq='M'), Timestamp('2015-12-31 00:00:00', freq='M'), Timestamp('2016-01-31 00:00:00', freq='M'), Timestamp('2016-02-29 00:00:00', freq='M'), Timestamp('2016-03-31 00:00:00', freq='M'), Timestamp('2016-04-30 00:00:00', freq='M'), Timestamp('2016-05-31 00:00:00', freq='M'), Timestamp('2016-06-30 00:00:00', freq='M'), Timestamp('2016-07-31 00:00:00', freq='M'), Timestamp('2016-08-31 00:00:00', freq='M'), Timestamp('2016-09-30 00:00:00', freq='M'), Timestamp('2016-10-31 00:00:00', freq='M'), Timestamp('2016-11-30 00:00:00', freq='M'), Timestamp('2016-12-31 00:00:00', freq='M'), Timestamp('2017-01-31 00:00:00', freq='M'), Timestamp('2017-02-28 00:00:00', freq='M'), Timestamp('2017-03-31 00:00:00', freq='M'), Timestamp('2017-04-30 00:00:00', freq='M'), Timestamp('2017-05-31 00:00:00', freq='M'), Timestamp('2017-06-30 00:00:00', freq='M'), Timestamp('2017-07-31 00:00:00', freq='M'), Timestamp('2017-08-31 00:00:00', freq='M'), Timestamp('2017-09-30 00:00:00', freq='M'), Timestamp('2017-10-31 00:00:00', freq='M'), Timestamp('2017-11-30 00:00:00', freq='M'), Timestamp('2017-12-31 00:00:00', freq='M'), Timestamp('2018-01-31 00:00:00', freq='M'), Timestamp('2018-02-28 00:00:00', freq='M'), Timestamp('2018-03-31 00:00:00', freq='M'), Timestamp('2018-04-30 00:00:00', freq='M'), Timestamp('2018-05-31 00:00:00', freq='M'), Timestamp('2018-06-30 00:00:00', freq='M'), Timestamp('2018-07-31 00:00:00', freq='M'), Timestamp('2018-08-31 00:00:00', freq='M'), Timestamp('2018-09-30 00:00:00', freq='M'), Timestamp('2018-10-31 00:00:00', freq='M'), Timestamp('2018-11-30 00:00:00', freq='M'), Timestamp('2018-12-31 00:00:00', freq='M'), Timestamp('2019-01-31 00:00:00', freq='M'), Timestamp('2019-02-28 00:00:00', freq='M'), Timestamp('2019-03-31 00:00:00', freq='M'), Timestamp('2019-04-30 00:00:00', freq='M'), Timestamp('2019-05-31 00:00:00', freq='M'), Timestamp('2019-06-30 00:00:00', freq='M'), Timestamp('2019-07-31 00:00:00', freq='M'), Timestamp('2019-08-31 00:00:00', freq='M'), Timestamp('2019-09-30 00:00:00', freq='M'), Timestamp('2019-10-31 00:00:00', freq='M'), Timestamp('2019-11-30 00:00:00', freq='M'), Timestamp('2019-12-31 00:00:00', freq='M'), Timestamp('2020-01-31 00:00:00', freq='M'), Timestamp('2020-02-29 00:00:00', freq='M'), Timestamp('2020-03-31 00:00:00', freq='M'), Timestamp('2020-04-30 00:00:00', freq='M'), Timestamp('2020-05-31 00:00:00', freq='M'), Timestamp('2020-06-30 00:00:00', freq='M'), Timestamp('2020-07-31 00:00:00', freq='M'), Timestamp('2020-08-31 00:00:00', freq='M'), Timestamp('2020-09-30 00:00:00', freq='M'), Timestamp('2020-10-31 00:00:00', freq='M'), Timestamp('2020-11-30 00:00:00', freq='M'), Timestamp('2020-12-31 00:00:00', freq='M'), Timestamp('2021-01-31 00:00:00', freq='M'), Timestamp('2021-02-28 00:00:00', freq='M'), Timestamp('2021-03-31 00:00:00', freq='M'), Timestamp('2021-04-30 00:00:00', freq='M'), Timestamp('2021-05-31 00:00:00', freq='M'), Timestamp('2021-06-30 00:00:00', freq='M'), Timestamp('2021-07-31 00:00:00', freq='M'), Timestamp('2021-08-31 00:00:00', freq='M'), Timestamp('2021-09-30 00:00:00', freq='M'), Timestamp('2021-10-31 00:00:00', freq='M'), Timestamp('2021-11-30 00:00:00', freq='M'), Timestamp('2021-12-31 00:00:00', freq='M'), Timestamp('2022-01-31 00:00:00', freq='M'), Timestamp('2022-02-28 00:00:00', freq='M'), Timestamp('2022-03-31 00:00:00', freq='M'), Timestamp('2022-04-30 00:00:00', freq='M'), Timestamp('2022-05-31 00:00:00', freq='M'), Timestamp('2022-06-30 00:00:00', freq='M'), Timestamp('2022-07-31 00:00:00', freq='M'), Timestamp('2022-08-31 00:00:00', freq='M')]\n"
     ]
    }
   ],
   "source": [
    "n_past = 170\n",
    "n_days_for_prediction=173  #4 months\n",
    "\n",
    "predict_period_dates = pd.date_range(list(train_dates)[-n_past], periods=n_days_for_prediction, freq='m').tolist()\n",
    "print(predict_period_dates)"
   ]
  },
  {
   "cell_type": "code",
   "execution_count": 297,
   "metadata": {},
   "outputs": [
    {
     "name": "stdout",
     "output_type": "stream",
     "text": [
      "6/6 [==============================] - 0s 2ms/step\n"
     ]
    }
   ],
   "source": [
    "#Make prediction\n",
    "prediction = model.predict(trainX[-n_days_for_prediction:]) #shape = (n, 1) where n is the n_days_for_prediction"
   ]
  },
  {
   "cell_type": "code",
   "execution_count": 298,
   "metadata": {},
   "outputs": [],
   "source": [
    "prediction_copies = np.repeat(prediction, df_for_training.shape[1], axis=-1)\n",
    "y_pred_future = scaler.inverse_transform(prediction_copies)[:,0]"
   ]
  },
  {
   "cell_type": "code",
   "execution_count": 299,
   "metadata": {},
   "outputs": [],
   "source": [
    "# Convert timestamp to date\n",
    "forecast_dates = []\n",
    "for time_i in predict_period_dates:\n",
    "    forecast_dates.append(time_i.date())\n",
    "    \n",
    "df_forecast = pd.DataFrame({'date':np.array(forecast_dates), 'verd_m2':y_pred_future})\n",
    "df_forecast['date']=pd.to_datetime(df_forecast['date'])"
   ]
  },
  {
   "cell_type": "code",
   "execution_count": 300,
   "metadata": {},
   "outputs": [
    {
     "name": "stderr",
     "output_type": "stream",
     "text": [
      "C:\\Users\\halld\\AppData\\Local\\Temp\\ipykernel_11888\\279094052.py:2: SettingWithCopyWarning: \n",
      "A value is trying to be set on a copy of a slice from a DataFrame.\n",
      "Try using .loc[row_indexer,col_indexer] = value instead\n",
      "\n",
      "See the caveats in the documentation: https://pandas.pydata.org/pandas-docs/stable/user_guide/indexing.html#returning-a-view-versus-a-copy\n",
      "  original['date']=pd.to_datetime(original['date'])\n",
      "c:\\Anaconda\\envs\\Deeplearning\\lib\\site-packages\\seaborn\\_decorators.py:36: FutureWarning: Pass the following variables as keyword args: x, y. From version 0.12, the only valid positional argument will be `data`, and passing other arguments without an explicit keyword will result in an error or misinterpretation.\n",
      "  warnings.warn(\n",
      "c:\\Anaconda\\envs\\Deeplearning\\lib\\site-packages\\seaborn\\_decorators.py:36: FutureWarning: Pass the following variables as keyword args: x, y. From version 0.12, the only valid positional argument will be `data`, and passing other arguments without an explicit keyword will result in an error or misinterpretation.\n",
      "  warnings.warn(\n"
     ]
    },
    {
     "data": {
      "text/plain": [
       "<AxesSubplot:xlabel='date', ylabel='verd_m2'>"
      ]
     },
     "execution_count": 300,
     "metadata": {},
     "output_type": "execute_result"
    },
    {
     "data": {
      "image/png": "[encoded data removed]",
      "text/plain": [
       "<Figure size 1152x720 with 1 Axes>"
      ]
     },
     "metadata": {},
     "output_type": "display_data"
    }
   ],
   "source": [
    "original = df[['date', 'verd_m2']]\n",
    "original['date']=pd.to_datetime(original['date'])\n",
    "original = original.loc[original['date'] >= '2006-1-1']\n",
    "\n",
    "plt.figure(figsize=(16,10))\n",
    "sns.lineplot(original['date'], original['verd_m2'], label='Original')\n",
    "sns.lineplot(df_forecast['date'], df_forecast['verd_m2'], label='Prediction')"
   ]
  },
  {
   "cell_type": "code",
   "execution_count": null,
   "metadata": {},
   "outputs": [],
   "source": []
  }
 ],
 "metadata": {
  "interpreter": {
   "hash": "d4db3d47a59552fcbe4dea865778cf426b035f018cc9040d4b9dcfb285018ea5"
  },
  "kernelspec": {
   "display_name": "Python 3.9.12 ('Deeplearning')",
   "language": "python",
   "name": "python3"
  },
  "language_info": {
   "codemirror_mode": {
    "name": "ipython",
    "version": 3
   },
   "file_extension": ".py",
   "mimetype": "text/x-python",
   "name": "python",
   "nbconvert_exporter": "python",
   "pygments_lexer": "ipython3",
   "version": "3.9.12"
  },
  "orig_nbformat": 4
 },
 "nbformat": 4,
 "nbformat_minor": 2
}
